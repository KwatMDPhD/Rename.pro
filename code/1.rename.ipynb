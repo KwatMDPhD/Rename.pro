{
 "cells": [
  {
   "outputs": [],
   "cell_type": "code",
   "source": [
    "include(\"_.jl\")"
   ],
   "id": "c2ad6f01-2900-4915-bdf8-7cc7c05ab605",
   "metadata": {},
   "execution_count": null
  },
  {
   "outputs": [],
   "cell_type": "code",
   "source": [
    "di = \"/Users/kwat/iCloud\""
   ],
   "id": "6597c615-1fc9-4c0a-91bc-dcb92ee1a1bc",
   "metadata": {},
   "execution_count": null
  },
  {
   "outputs": [],
   "cell_type": "code",
   "source": [
    "for (ro, di_, fi_) in walkdir(di)\n",
    "\n",
    "    if any(contains(ro, st) for st in (\"TODO\", \".key\", \"Kz\", \"benchmarks\"))\n",
    "\n",
    "        continue\n",
    "\n",
    "    end\n",
    "\n",
    "    for fi in fi_\n",
    "\n",
    "        so = joinpath(ro, fi)\n",
    "\n",
    "        if startswith(fi, '.')\n",
    "\n",
    "            continue\n",
    "\n",
    "        end\n",
    "\n",
    "        pr, ex = splitext(fi)\n",
    "\n",
    "        ex = lowercase(ex)\n",
    "\n",
    "        if ex == \".jpg\"\n",
    "\n",
    "            ex = \".jpeg\"\n",
    "\n",
    "        end\n",
    "\n",
    "        if pr != \"_\"\n",
    "\n",
    "            pr = BioLab.String.title(pr)\n",
    "\n",
    "        end\n",
    "\n",
    "        de = joinpath(ro, \"$pr$ex\")\n",
    "\n",
    "        if so != de\n",
    "\n",
    "            println(\"$so ==> $de\")\n",
    "\n",
    "            #run(`mv $so $de`)\n",
    "\n",
    "        end\n",
    "\n",
    "    end\n",
    "\n",
    "end"
   ],
   "id": "ec9f3970-f190-4f9e-8408-e2735997e0a8",
   "metadata": {},
   "execution_count": null
  }
 ],
 "nbformat_minor": 5,
 "metadata": {
  "language_info": {
   "file_extension": ".jl",
   "mimetype": "application/julia",
   "name": "julia",
   "version": "1.8.5"
  },
  "kernelspec": {
   "name": "julia-1.8",
   "display_name": "Julia 1.8.5",
   "language": "julia"
  }
 },
 "nbformat": 4
}
